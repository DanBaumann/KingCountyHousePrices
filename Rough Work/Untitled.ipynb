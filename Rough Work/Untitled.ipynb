{
 "cells": [
  {
   "cell_type": "markdown",
   "metadata": {},
   "source": [
    "# Project Review"
   ]
  },
  {
   "cell_type": "markdown",
   "metadata": {},
   "source": [
    "readibility - create a structure and explain everything\n",
    "visualitions - comment on what you see \n",
    "give reasons for using other libraries that have not been covered in the course\n",
    "don't subset the model based on prices\n",
    "verify that everything works by git clhnoning into another location "
   ]
  }
 ],
 "metadata": {
  "kernelspec": {
   "display_name": "Python 3",
   "language": "python",
   "name": "python3"
  },
  "language_info": {
   "codemirror_mode": {
    "name": "ipython",
    "version": 3
   },
   "file_extension": ".py",
   "mimetype": "text/x-python",
   "name": "python",
   "nbconvert_exporter": "python",
   "pygments_lexer": "ipython3",
   "version": "3.6.6"
  }
 },
 "nbformat": 4,
 "nbformat_minor": 4
}
