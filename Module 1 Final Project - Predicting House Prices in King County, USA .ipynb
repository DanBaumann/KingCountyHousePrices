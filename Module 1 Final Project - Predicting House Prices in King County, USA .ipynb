{
 "cells": [
  {
   "cell_type": "markdown",
   "metadata": {},
   "source": [
    "# Predicting Housing Prices in King County, USA\n",
    "by Daniel Baumann and Sara Zylfo"
   ]
  },
  {
   "cell_type": "markdown",
   "metadata": {},
   "source": [
    "1. Introduction"
   ]
  },
  {
   "cell_type": "markdown",
   "metadata": {},
   "source": [
    "For our first project as data scientists we were been tasked with creating a predictive model on housing prices using a large dataset containing prices for propertis sold between May 2014 and 2015. The data contained many attributes of the various properties which allowed a deep analysis to dsicover causality between a house attribute and the price it was sold for. This data required preparation in the form of cleaning and analysis.If the relationship between certain variables and housing prices can be accurately modelled this would allow for more accurate property valuations. Sellers that are required to provide these valuations could benefit from predictive models such as these, so as to not overvalue/undervalue their property. Similarly, house buyers could also be beneficiaries of a well-constructed model because they would be able to make offers that better reflect the market value of property. \n",
    "\n",
    "The aim of this analysis will be to predict the price of housing in King County, using only the variables and observations provided in the dataset. \n"
   ]
  },
  {
   "cell_type": "markdown",
   "metadata": {},
   "source": [
    "2. Data"
   ]
  },
  {
   "cell_type": "markdown",
   "metadata": {},
   "source": [
    "# The dataset in question consists of 21 categories which include 'Date' indicating when the house was sold, as well as a unique identification number 'id'. These variables, particularly the latter are not useful in our investigation. However, the 19 other variables include our outcome of interest 'price', and 18 other housing-related features which are available to use in our data analysis and creating our models.\n",
    "\n",
    "| Variable | Description | \n",
    "| ------ | ------------ |\n",
    "| id | Unique identification number |\n",
    "| date | House sale date |\n",
    "| price | House sale price |\n",
    "| bedrooms | Number of bedrooms |\n",
    "| bathrooms | Number of bathrooms (0.5 indicates toilet and sink only) |\n",
    "| sqft_living | Square footage of total living area |\n",
    "| sqft_lot | Square footage of total lot area |\n",
    "| floors | Number of floors |\n",
    "| waterfront | A dummy(binary) variable that indicates waterfront view |\n",
    "| view | 0-4 index on how good the view of the property is |\n",
    "| condition | 1-5 index on condition of the house |\n",
    "| grade | 1-13 index - King County house grading system |\n",
    "| sqft_above | Square footage of housing space above the ground |\n",
    "| sqft_below | Sqaure footage of housing space below the ground |\n",
    "| yr_built | Year that house was built |\n",
    "| yr_renovation | Year of house's last renovation |\n",
    "| zipcode | Zipcode area of the house |\n",
    "| lat | Latitude |\n",
    "| long | Longitude |\n",
    "| sqft_living15 | Square footage of total living area for nearest 15 neighbours |\n",
    "| sqft_lot15 | Square footage of total lot area for nearest 15 neighbours |\n"
   ]
  },
  {
   "cell_type": "code",
   "execution_count": 1,
   "metadata": {},
   "outputs": [],
   "source": [
    "import pandas as pd\n",
    "import numpy as np\n",
    "import matplotlib.pyplot as plt\n",
    "%matplotlib inline\n",
    "from scipy.stats import norm\n",
    "import seaborn as sns\n",
    "kc_house_data = pd.read_csv('kc_house_data.csv')"
   ]
  },
  {
   "cell_type": "markdown",
   "metadata": {},
   "source": [
    "When considering a large data set with many variables, we wanted to keep our questions directly relevant to the predictive model and ensure we did not get lost in the intricacies of the data. Our method was to isolate what attributes caused an increase or decrease in price, starting with zipcode and determine our follow up questions based on that analysis."
   ]
  },
  {
   "cell_type": "markdown",
   "metadata": {},
   "source": [
    "#    (1) Does house price vary with zipcode?"
   ]
  },
  {
   "cell_type": "markdown",
   "metadata": {},
   "source": [
    "Intuitively, this is the first point to explore when considering housing prices of any region. Although all properties reside within the same county, we could see a large price range in our data and investigated if location was the cause and if so, to what degree. "
   ]
  },
  {
   "cell_type": "code",
   "execution_count": 2,
   "metadata": {},
   "outputs": [
    {
     "data": {
      "text/plain": [
       "zipcode\n",
       "98001    2.811949e+05\n",
       "98002    2.342840e+05\n",
       "98003    2.941113e+05\n",
       "98004    1.356524e+06\n",
       "98005    8.102897e+05\n",
       "Name: price, dtype: float64"
      ]
     },
     "execution_count": 2,
     "metadata": {},
     "output_type": "execute_result"
    }
   ],
   "source": [
    "zipcode_averages = kc_house_data.groupby('zipcode')['price'].mean()\n",
    "zipcode_averages.head()\n"
   ]
  },
  {
   "cell_type": "markdown",
   "metadata": {},
   "source": [
    "Here we grouped the data by Zipcode and Price and took the mean. This provided us with the average sell price per region."
   ]
  },
  {
   "cell_type": "code",
   "execution_count": 3,
   "metadata": {},
   "outputs": [
    {
     "data": {
      "text/html": [
       "<div>\n",
       "<style scoped>\n",
       "    .dataframe tbody tr th:only-of-type {\n",
       "        vertical-align: middle;\n",
       "    }\n",
       "\n",
       "    .dataframe tbody tr th {\n",
       "        vertical-align: top;\n",
       "    }\n",
       "\n",
       "    .dataframe thead th {\n",
       "        text-align: right;\n",
       "    }\n",
       "</style>\n",
       "<table border=\"1\" class=\"dataframe\">\n",
       "  <thead>\n",
       "    <tr style=\"text-align: right;\">\n",
       "      <th></th>\n",
       "      <th>zipcode</th>\n",
       "      <th>price</th>\n",
       "    </tr>\n",
       "  </thead>\n",
       "  <tbody>\n",
       "    <tr>\n",
       "      <th>0</th>\n",
       "      <td>98001</td>\n",
       "      <td>2.811949e+05</td>\n",
       "    </tr>\n",
       "    <tr>\n",
       "      <th>1</th>\n",
       "      <td>98002</td>\n",
       "      <td>2.342840e+05</td>\n",
       "    </tr>\n",
       "    <tr>\n",
       "      <th>2</th>\n",
       "      <td>98003</td>\n",
       "      <td>2.941113e+05</td>\n",
       "    </tr>\n",
       "    <tr>\n",
       "      <th>3</th>\n",
       "      <td>98004</td>\n",
       "      <td>1.356524e+06</td>\n",
       "    </tr>\n",
       "    <tr>\n",
       "      <th>4</th>\n",
       "      <td>98005</td>\n",
       "      <td>8.102897e+05</td>\n",
       "    </tr>\n",
       "  </tbody>\n",
       "</table>\n",
       "</div>"
      ],
      "text/plain": [
       "   zipcode         price\n",
       "0    98001  2.811949e+05\n",
       "1    98002  2.342840e+05\n",
       "2    98003  2.941113e+05\n",
       "3    98004  1.356524e+06\n",
       "4    98005  8.102897e+05"
      ]
     },
     "execution_count": 3,
     "metadata": {},
     "output_type": "execute_result"
    }
   ],
   "source": [
    "zipcode_average =zipcode_averages.reset_index()\n",
    "zipcode_average.head()"
   ]
  },
  {
   "cell_type": "markdown",
   "metadata": {},
   "source": [
    "We made the zipcode averages the index so that we cold plot a scatter graph to visualise the variance in price. "
   ]
  },
  {
   "cell_type": "code",
   "execution_count": 4,
   "metadata": {},
   "outputs": [
    {
     "data": {
      "image/png": "[encoded data removed]",
      "text/plain": [
       "<Figure size 1080x1080 with 1 Axes>"
      ]
     },
     "metadata": {
      "needs_background": "light"
     },
     "output_type": "display_data"
    }
   ],
   "source": [
    "x = zipcode_average['zipcode']\n",
    "y = zipcode_average['price']\n",
    "plt.figure(figsize = (15,15))\n",
    "ax = sns.scatterplot(x = 'zipcode', y = 'price', data = zipcode_average)"
   ]
  },
  {
   "cell_type": "markdown",
   "metadata": {},
   "source": [
    "The plot depicted some very obvious outliers, prompting us to investigate why exaclty these zipcodes contained properties which were significantly worth more than the others. This is directly relevant to our assignment as we are attempting to discover what makes a property more expensive to advise sellers on how to increase the value of their property or aid buyers in knowing what attributes make a property worth more as an investment and increase value over time. "
   ]
  },
  {
   "cell_type": "code",
   "execution_count": 7,
   "metadata": {},
   "outputs": [
    {
     "data": {
      "text/html": [
       "<div>\n",
       "<style scoped>\n",
       "    .dataframe tbody tr th:only-of-type {\n",
       "        vertical-align: middle;\n",
       "    }\n",
       "\n",
       "    .dataframe tbody tr th {\n",
       "        vertical-align: top;\n",
       "    }\n",
       "\n",
       "    .dataframe thead th {\n",
       "        text-align: right;\n",
       "    }\n",
       "</style>\n",
       "<table border=\"1\" class=\"dataframe\">\n",
       "  <thead>\n",
       "    <tr style=\"text-align: right;\">\n",
       "      <th></th>\n",
       "      <th>zipcode</th>\n",
       "      <th>price</th>\n",
       "    </tr>\n",
       "  </thead>\n",
       "  <tbody>\n",
       "    <tr>\n",
       "      <th>24</th>\n",
       "      <td>98039</td>\n",
       "      <td>2.161300e+06</td>\n",
       "    </tr>\n",
       "    <tr>\n",
       "      <th>3</th>\n",
       "      <td>98004</td>\n",
       "      <td>1.356524e+06</td>\n",
       "    </tr>\n",
       "    <tr>\n",
       "      <th>25</th>\n",
       "      <td>98040</td>\n",
       "      <td>1.194874e+06</td>\n",
       "    </tr>\n",
       "    <tr>\n",
       "      <th>48</th>\n",
       "      <td>98112</td>\n",
       "      <td>1.096239e+06</td>\n",
       "    </tr>\n",
       "    <tr>\n",
       "      <th>41</th>\n",
       "      <td>98102</td>\n",
       "      <td>8.996077e+05</td>\n",
       "    </tr>\n",
       "    <tr>\n",
       "      <th>47</th>\n",
       "      <td>98109</td>\n",
       "      <td>8.800778e+05</td>\n",
       "    </tr>\n",
       "    <tr>\n",
       "      <th>43</th>\n",
       "      <td>98105</td>\n",
       "      <td>8.632289e+05</td>\n",
       "    </tr>\n",
       "    <tr>\n",
       "      <th>5</th>\n",
       "      <td>98006</td>\n",
       "      <td>8.599386e+05</td>\n",
       "    </tr>\n",
       "    <tr>\n",
       "      <th>53</th>\n",
       "      <td>98119</td>\n",
       "      <td>8.497148e+05</td>\n",
       "    </tr>\n",
       "    <tr>\n",
       "      <th>4</th>\n",
       "      <td>98005</td>\n",
       "      <td>8.102897e+05</td>\n",
       "    </tr>\n",
       "    <tr>\n",
       "      <th>21</th>\n",
       "      <td>98033</td>\n",
       "      <td>8.039908e+05</td>\n",
       "    </tr>\n",
       "    <tr>\n",
       "      <th>69</th>\n",
       "      <td>98199</td>\n",
       "      <td>7.921879e+05</td>\n",
       "    </tr>\n",
       "    <tr>\n",
       "      <th>38</th>\n",
       "      <td>98075</td>\n",
       "      <td>7.907347e+05</td>\n",
       "    </tr>\n",
       "    <tr>\n",
       "      <th>37</th>\n",
       "      <td>98074</td>\n",
       "      <td>6.856758e+05</td>\n",
       "    </tr>\n",
       "    <tr>\n",
       "      <th>39</th>\n",
       "      <td>98077</td>\n",
       "      <td>6.828860e+05</td>\n",
       "    </tr>\n",
       "    <tr>\n",
       "      <th>29</th>\n",
       "      <td>98053</td>\n",
       "      <td>6.772150e+05</td>\n",
       "    </tr>\n",
       "    <tr>\n",
       "      <th>65</th>\n",
       "      <td>98177</td>\n",
       "      <td>6.764194e+05</td>\n",
       "    </tr>\n",
       "    <tr>\n",
       "      <th>7</th>\n",
       "      <td>98008</td>\n",
       "      <td>6.456282e+05</td>\n",
       "    </tr>\n",
       "    <tr>\n",
       "      <th>28</th>\n",
       "      <td>98052</td>\n",
       "      <td>6.452442e+05</td>\n",
       "    </tr>\n",
       "    <tr>\n",
       "      <th>54</th>\n",
       "      <td>98122</td>\n",
       "      <td>6.345581e+05</td>\n",
       "    </tr>\n",
       "    <tr>\n",
       "      <th>49</th>\n",
       "      <td>98115</td>\n",
       "      <td>6.199441e+05</td>\n",
       "    </tr>\n",
       "    <tr>\n",
       "      <th>50</th>\n",
       "      <td>98116</td>\n",
       "      <td>6.186951e+05</td>\n",
       "    </tr>\n",
       "    <tr>\n",
       "      <th>6</th>\n",
       "      <td>98007</td>\n",
       "      <td>6.172540e+05</td>\n",
       "    </tr>\n",
       "    <tr>\n",
       "      <th>15</th>\n",
       "      <td>98027</td>\n",
       "      <td>6.170540e+05</td>\n",
       "    </tr>\n",
       "    <tr>\n",
       "      <th>17</th>\n",
       "      <td>98029</td>\n",
       "      <td>6.126427e+05</td>\n",
       "    </tr>\n",
       "    <tr>\n",
       "      <th>59</th>\n",
       "      <td>98144</td>\n",
       "      <td>5.947065e+05</td>\n",
       "    </tr>\n",
       "    <tr>\n",
       "      <th>14</th>\n",
       "      <td>98024</td>\n",
       "      <td>5.861209e+05</td>\n",
       "    </tr>\n",
       "    <tr>\n",
       "      <th>42</th>\n",
       "      <td>98103</td>\n",
       "      <td>5.850488e+05</td>\n",
       "    </tr>\n",
       "    <tr>\n",
       "      <th>45</th>\n",
       "      <td>98107</td>\n",
       "      <td>5.791098e+05</td>\n",
       "    </tr>\n",
       "    <tr>\n",
       "      <th>51</th>\n",
       "      <td>98117</td>\n",
       "      <td>5.768348e+05</td>\n",
       "    </tr>\n",
       "    <tr>\n",
       "      <th>...</th>\n",
       "      <td>...</td>\n",
       "      <td>...</td>\n",
       "    </tr>\n",
       "    <tr>\n",
       "      <th>10</th>\n",
       "      <td>98014</td>\n",
       "      <td>4.556171e+05</td>\n",
       "    </tr>\n",
       "    <tr>\n",
       "      <th>27</th>\n",
       "      <td>98045</td>\n",
       "      <td>4.402323e+05</td>\n",
       "    </tr>\n",
       "    <tr>\n",
       "      <th>11</th>\n",
       "      <td>98019</td>\n",
       "      <td>4.248151e+05</td>\n",
       "    </tr>\n",
       "    <tr>\n",
       "      <th>56</th>\n",
       "      <td>98126</td>\n",
       "      <td>4.247346e+05</td>\n",
       "    </tr>\n",
       "    <tr>\n",
       "      <th>62</th>\n",
       "      <td>98155</td>\n",
       "      <td>4.237369e+05</td>\n",
       "    </tr>\n",
       "    <tr>\n",
       "      <th>8</th>\n",
       "      <td>98010</td>\n",
       "      <td>4.236660e+05</td>\n",
       "    </tr>\n",
       "    <tr>\n",
       "      <th>31</th>\n",
       "      <td>98056</td>\n",
       "      <td>4.208955e+05</td>\n",
       "    </tr>\n",
       "    <tr>\n",
       "      <th>52</th>\n",
       "      <td>98118</td>\n",
       "      <td>4.180194e+05</td>\n",
       "    </tr>\n",
       "    <tr>\n",
       "      <th>57</th>\n",
       "      <td>98133</td>\n",
       "      <td>3.870116e+05</td>\n",
       "    </tr>\n",
       "    <tr>\n",
       "      <th>23</th>\n",
       "      <td>98038</td>\n",
       "      <td>3.670915e+05</td>\n",
       "    </tr>\n",
       "    <tr>\n",
       "      <th>60</th>\n",
       "      <td>98146</td>\n",
       "      <td>3.594963e+05</td>\n",
       "    </tr>\n",
       "    <tr>\n",
       "      <th>46</th>\n",
       "      <td>98108</td>\n",
       "      <td>3.556785e+05</td>\n",
       "    </tr>\n",
       "    <tr>\n",
       "      <th>32</th>\n",
       "      <td>98058</td>\n",
       "      <td>3.536191e+05</td>\n",
       "    </tr>\n",
       "    <tr>\n",
       "      <th>40</th>\n",
       "      <td>98092</td>\n",
       "      <td>3.349211e+05</td>\n",
       "    </tr>\n",
       "    <tr>\n",
       "      <th>44</th>\n",
       "      <td>98106</td>\n",
       "      <td>3.195814e+05</td>\n",
       "    </tr>\n",
       "    <tr>\n",
       "      <th>12</th>\n",
       "      <td>98022</td>\n",
       "      <td>3.167424e+05</td>\n",
       "    </tr>\n",
       "    <tr>\n",
       "      <th>26</th>\n",
       "      <td>98042</td>\n",
       "      <td>3.115803e+05</td>\n",
       "    </tr>\n",
       "    <tr>\n",
       "      <th>66</th>\n",
       "      <td>98178</td>\n",
       "      <td>3.106128e+05</td>\n",
       "    </tr>\n",
       "    <tr>\n",
       "      <th>30</th>\n",
       "      <td>98055</td>\n",
       "      <td>3.042621e+05</td>\n",
       "    </tr>\n",
       "    <tr>\n",
       "      <th>68</th>\n",
       "      <td>98198</td>\n",
       "      <td>3.028967e+05</td>\n",
       "    </tr>\n",
       "    <tr>\n",
       "      <th>19</th>\n",
       "      <td>98031</td>\n",
       "      <td>3.003404e+05</td>\n",
       "    </tr>\n",
       "    <tr>\n",
       "      <th>18</th>\n",
       "      <td>98030</td>\n",
       "      <td>2.961880e+05</td>\n",
       "    </tr>\n",
       "    <tr>\n",
       "      <th>2</th>\n",
       "      <td>98003</td>\n",
       "      <td>2.941113e+05</td>\n",
       "    </tr>\n",
       "    <tr>\n",
       "      <th>67</th>\n",
       "      <td>98188</td>\n",
       "      <td>2.890783e+05</td>\n",
       "    </tr>\n",
       "    <tr>\n",
       "      <th>13</th>\n",
       "      <td>98023</td>\n",
       "      <td>2.867428e+05</td>\n",
       "    </tr>\n",
       "    <tr>\n",
       "      <th>61</th>\n",
       "      <td>98148</td>\n",
       "      <td>2.849086e+05</td>\n",
       "    </tr>\n",
       "    <tr>\n",
       "      <th>0</th>\n",
       "      <td>98001</td>\n",
       "      <td>2.811949e+05</td>\n",
       "    </tr>\n",
       "    <tr>\n",
       "      <th>20</th>\n",
       "      <td>98032</td>\n",
       "      <td>2.512962e+05</td>\n",
       "    </tr>\n",
       "    <tr>\n",
       "      <th>64</th>\n",
       "      <td>98168</td>\n",
       "      <td>2.403284e+05</td>\n",
       "    </tr>\n",
       "    <tr>\n",
       "      <th>1</th>\n",
       "      <td>98002</td>\n",
       "      <td>2.342840e+05</td>\n",
       "    </tr>\n",
       "  </tbody>\n",
       "</table>\n",
       "<p>70 rows × 2 columns</p>\n",
       "</div>"
      ],
      "text/plain": [
       "    zipcode         price\n",
       "24    98039  2.161300e+06\n",
       "3     98004  1.356524e+06\n",
       "25    98040  1.194874e+06\n",
       "48    98112  1.096239e+06\n",
       "41    98102  8.996077e+05\n",
       "47    98109  8.800778e+05\n",
       "43    98105  8.632289e+05\n",
       "5     98006  8.599386e+05\n",
       "53    98119  8.497148e+05\n",
       "4     98005  8.102897e+05\n",
       "21    98033  8.039908e+05\n",
       "69    98199  7.921879e+05\n",
       "38    98075  7.907347e+05\n",
       "37    98074  6.856758e+05\n",
       "39    98077  6.828860e+05\n",
       "29    98053  6.772150e+05\n",
       "65    98177  6.764194e+05\n",
       "7     98008  6.456282e+05\n",
       "28    98052  6.452442e+05\n",
       "54    98122  6.345581e+05\n",
       "49    98115  6.199441e+05\n",
       "50    98116  6.186951e+05\n",
       "6     98007  6.172540e+05\n",
       "15    98027  6.170540e+05\n",
       "17    98029  6.126427e+05\n",
       "59    98144  5.947065e+05\n",
       "14    98024  5.861209e+05\n",
       "42    98103  5.850488e+05\n",
       "45    98107  5.791098e+05\n",
       "51    98117  5.768348e+05\n",
       "..      ...           ...\n",
       "10    98014  4.556171e+05\n",
       "27    98045  4.402323e+05\n",
       "11    98019  4.248151e+05\n",
       "56    98126  4.247346e+05\n",
       "62    98155  4.237369e+05\n",
       "8     98010  4.236660e+05\n",
       "31    98056  4.208955e+05\n",
       "52    98118  4.180194e+05\n",
       "57    98133  3.870116e+05\n",
       "23    98038  3.670915e+05\n",
       "60    98146  3.594963e+05\n",
       "46    98108  3.556785e+05\n",
       "32    98058  3.536191e+05\n",
       "40    98092  3.349211e+05\n",
       "44    98106  3.195814e+05\n",
       "12    98022  3.167424e+05\n",
       "26    98042  3.115803e+05\n",
       "66    98178  3.106128e+05\n",
       "30    98055  3.042621e+05\n",
       "68    98198  3.028967e+05\n",
       "19    98031  3.003404e+05\n",
       "18    98030  2.961880e+05\n",
       "2     98003  2.941113e+05\n",
       "67    98188  2.890783e+05\n",
       "13    98023  2.867428e+05\n",
       "61    98148  2.849086e+05\n",
       "0     98001  2.811949e+05\n",
       "20    98032  2.512962e+05\n",
       "64    98168  2.403284e+05\n",
       "1     98002  2.342840e+05\n",
       "\n",
       "[70 rows x 2 columns]"
      ]
     },
     "execution_count": 7,
     "metadata": {},
     "output_type": "execute_result"
    }
   ],
   "source": [
    "zipcode_average.sort_values(by =['price'], ascending = False)\n"
   ]
  },
  {
   "cell_type": "markdown",
   "metadata": {},
   "source": [
    "We sorted the mean house price per zipcode with most expensive first to see how much they differ. We can conclude that; property prices do vary based on zipcode, the degree to which is substantial in some cases. This led us to discuss what we think makes a property more expensive and decided to analyse the effect that being situated on the waterfront will have on price."
   ]
  },
  {
   "cell_type": "markdown",
   "metadata": {},
   "source": [
    "# What is the effect that proximity to the waterfront has on property price?"
   ]
  },
  {
   "cell_type": "code",
   "execution_count": 8,
   "metadata": {},
   "outputs": [
    {
     "data": {
      "text/html": [
       "<div>\n",
       "<style scoped>\n",
       "    .dataframe tbody tr th:only-of-type {\n",
       "        vertical-align: middle;\n",
       "    }\n",
       "\n",
       "    .dataframe tbody tr th {\n",
       "        vertical-align: top;\n",
       "    }\n",
       "\n",
       "    .dataframe thead th {\n",
       "        text-align: right;\n",
       "    }\n",
       "</style>\n",
       "<table border=\"1\" class=\"dataframe\">\n",
       "  <thead>\n",
       "    <tr style=\"text-align: right;\">\n",
       "      <th></th>\n",
       "      <th>id</th>\n",
       "      <th>price</th>\n",
       "      <th>bedrooms</th>\n",
       "      <th>bathrooms</th>\n",
       "      <th>sqft_living</th>\n",
       "      <th>sqft_lot</th>\n",
       "      <th>floors</th>\n",
       "      <th>view</th>\n",
       "      <th>condition</th>\n",
       "      <th>grade</th>\n",
       "      <th>sqft_above</th>\n",
       "      <th>yr_built</th>\n",
       "      <th>yr_renovated</th>\n",
       "      <th>zipcode</th>\n",
       "      <th>lat</th>\n",
       "      <th>long</th>\n",
       "      <th>sqft_living15</th>\n",
       "      <th>sqft_lot15</th>\n",
       "    </tr>\n",
       "    <tr>\n",
       "      <th>waterfront</th>\n",
       "      <th></th>\n",
       "      <th></th>\n",
       "      <th></th>\n",
       "      <th></th>\n",
       "      <th></th>\n",
       "      <th></th>\n",
       "      <th></th>\n",
       "      <th></th>\n",
       "      <th></th>\n",
       "      <th></th>\n",
       "      <th></th>\n",
       "      <th></th>\n",
       "      <th></th>\n",
       "      <th></th>\n",
       "      <th></th>\n",
       "      <th></th>\n",
       "      <th></th>\n",
       "      <th></th>\n",
       "    </tr>\n",
       "  </thead>\n",
       "  <tbody>\n",
       "    <tr>\n",
       "      <th>0.0</th>\n",
       "      <td>4.593352e+09</td>\n",
       "      <td>5.326420e+05</td>\n",
       "      <td>3.374836</td>\n",
       "      <td>2.112543</td>\n",
       "      <td>2073.524404</td>\n",
       "      <td>14991.120210</td>\n",
       "      <td>1.493997</td>\n",
       "      <td>0.203954</td>\n",
       "      <td>3.408965</td>\n",
       "      <td>7.652058</td>\n",
       "      <td>1785.875125</td>\n",
       "      <td>1971.106841</td>\n",
       "      <td>79.280087</td>\n",
       "      <td>98077.591140</td>\n",
       "      <td>47.560078</td>\n",
       "      <td>-122.213552</td>\n",
       "      <td>1982.052949</td>\n",
       "      <td>12729.486186</td>\n",
       "    </tr>\n",
       "    <tr>\n",
       "      <th>1.0</th>\n",
       "      <td>4.454969e+09</td>\n",
       "      <td>1.717215e+06</td>\n",
       "      <td>3.349315</td>\n",
       "      <td>2.708904</td>\n",
       "      <td>3244.753425</td>\n",
       "      <td>25870.883562</td>\n",
       "      <td>1.630137</td>\n",
       "      <td>3.786207</td>\n",
       "      <td>3.541096</td>\n",
       "      <td>8.835616</td>\n",
       "      <td>2508.760274</td>\n",
       "      <td>1962.280822</td>\n",
       "      <td>476.628099</td>\n",
       "      <td>98096.712329</td>\n",
       "      <td>47.539677</td>\n",
       "      <td>-122.278164</td>\n",
       "      <td>2682.828767</td>\n",
       "      <td>22893.698630</td>\n",
       "    </tr>\n",
       "  </tbody>\n",
       "</table>\n",
       "</div>"
      ],
      "text/plain": [
       "                      id         price  bedrooms  bathrooms  sqft_living  \\\n",
       "waterfront                                                                 \n",
       "0.0         4.593352e+09  5.326420e+05  3.374836   2.112543  2073.524404   \n",
       "1.0         4.454969e+09  1.717215e+06  3.349315   2.708904  3244.753425   \n",
       "\n",
       "                sqft_lot    floors      view  condition     grade  \\\n",
       "waterfront                                                          \n",
       "0.0         14991.120210  1.493997  0.203954   3.408965  7.652058   \n",
       "1.0         25870.883562  1.630137  3.786207   3.541096  8.835616   \n",
       "\n",
       "             sqft_above     yr_built  yr_renovated       zipcode        lat  \\\n",
       "waterfront                                                                    \n",
       "0.0         1785.875125  1971.106841     79.280087  98077.591140  47.560078   \n",
       "1.0         2508.760274  1962.280822    476.628099  98096.712329  47.539677   \n",
       "\n",
       "                  long  sqft_living15    sqft_lot15  \n",
       "waterfront                                           \n",
       "0.0        -122.213552    1982.052949  12729.486186  \n",
       "1.0        -122.278164    2682.828767  22893.698630  "
      ]
     },
     "execution_count": 8,
     "metadata": {},
     "output_type": "execute_result"
    }
   ],
   "source": [
    "wf_avg = kc_house_data.groupby('waterfront').mean()\n",
    "wf_avg"
   ]
  },
  {
   "cell_type": "markdown",
   "metadata": {},
   "source": [
    "The key is '1' means the property is siutated on the waterfront and '0' does not. There is a very large difference in mean price between 0 and 1 properties. We can also see that there is a neglible difference between bedrooms and bathrooms between the two index's. \n",
    "\n",
    "This suggests that waterfront does have a large impact on price, leading us to isolate which zipcodes contained properties on the waterfront and how many."
   ]
  },
  {
   "cell_type": "code",
   "execution_count": 14,
   "metadata": {},
   "outputs": [
    {
     "data": {
      "text/plain": [
       "98070    20\n",
       "98166    14\n",
       "98040    11\n",
       "98008     9\n",
       "98198     9\n",
       "98178     9\n",
       "98075     8\n",
       "98146     6\n",
       "98074     6\n",
       "98125     6\n",
       "98136     5\n",
       "98034     5\n",
       "98155     5\n",
       "98006     4\n",
       "98056     3\n",
       "98105     3\n",
       "98118     3\n",
       "98033     3\n",
       "98023     3\n",
       "98052     3\n",
       "98144     2\n",
       "98027     2\n",
       "98028     1\n",
       "98039     1\n",
       "98116     1\n",
       "98115     1\n",
       "98177     1\n",
       "98199     1\n",
       "98004     1\n",
       "Name: zipcode, dtype: int64"
      ]
     },
     "execution_count": 14,
     "metadata": {},
     "output_type": "execute_result"
    }
   ],
   "source": [
    "on_wf = kc_house_data.loc[kc_house_data['waterfront'] == 1]\n",
    "on_wf.zipcode.value_counts()"
   ]
  },
  {
   "cell_type": "markdown",
   "metadata": {},
   "source": [
    "We isolated zipcodes 98070 and 98166 since they are the modal values of this analysis and compared the prices of houses within the zipcode to see if waterfront proximity affected price and to what degree. This means we are excluding the intial assumption that house price depends on zipcode and isolating the waterfront variable only to determine impact on price. "
   ]
  },
  {
   "cell_type": "code",
   "execution_count": 30,
   "metadata": {},
   "outputs": [
    {
     "data": {
      "text/plain": [
       "id               3.267469e+09\n",
       "price            4.893820e+05\n",
       "bedrooms         2.777778e+00\n",
       "bathrooms        1.910256e+00\n",
       "sqft_living      1.893060e+03\n",
       "sqft_lot         9.626996e+04\n",
       "floors           1.410256e+00\n",
       "waterfront       1.886792e-01\n",
       "view             1.094017e+00\n",
       "condition        3.692308e+00\n",
       "grade            7.282051e+00\n",
       "sqft_above       1.686419e+03\n",
       "yr_built         1.967726e+03\n",
       "yr_renovated     1.450938e+02\n",
       "zipcode          9.807000e+04\n",
       "lat              4.741742e+01\n",
       "long            -1.224636e+02\n",
       "sqft_living15    1.775726e+03\n",
       "sqft_lot15       8.006821e+04\n",
       "dtype: float64"
      ]
     },
     "execution_count": 30,
     "metadata": {},
     "output_type": "execute_result"
    }
   ],
   "source": [
    "seven_zero_properties = kc_house_data.loc[kc_house_data['zipcode'] == 98070]\n",
    "seven_zero_properties.loc[seven_zero_properties['waterfront']== 1]\n",
    "wf_mean = seven_zero_properties.mean()\n",
    "wf_mean\n"
   ]
  },
  {
   "cell_type": "code",
   "execution_count": 35,
   "metadata": {},
   "outputs": [
    {
     "data": {
      "text/html": [
       "<div>\n",
       "<style scoped>\n",
       "    .dataframe tbody tr th:only-of-type {\n",
       "        vertical-align: middle;\n",
       "    }\n",
       "\n",
       "    .dataframe tbody tr th {\n",
       "        vertical-align: top;\n",
       "    }\n",
       "\n",
       "    .dataframe thead th {\n",
       "        text-align: right;\n",
       "    }\n",
       "</style>\n",
       "<table border=\"1\" class=\"dataframe\">\n",
       "  <thead>\n",
       "    <tr style=\"text-align: right;\">\n",
       "      <th></th>\n",
       "      <th>id</th>\n",
       "      <th>date</th>\n",
       "      <th>price</th>\n",
       "      <th>bedrooms</th>\n",
       "      <th>bathrooms</th>\n",
       "      <th>sqft_living</th>\n",
       "      <th>sqft_lot</th>\n",
       "      <th>floors</th>\n",
       "      <th>waterfront</th>\n",
       "      <th>view</th>\n",
       "      <th>...</th>\n",
       "      <th>grade</th>\n",
       "      <th>sqft_above</th>\n",
       "      <th>sqft_basement</th>\n",
       "      <th>yr_built</th>\n",
       "      <th>yr_renovated</th>\n",
       "      <th>zipcode</th>\n",
       "      <th>lat</th>\n",
       "      <th>long</th>\n",
       "      <th>sqft_living15</th>\n",
       "      <th>sqft_lot15</th>\n",
       "    </tr>\n",
       "  </thead>\n",
       "  <tbody>\n",
       "    <tr>\n",
       "      <th>343</th>\n",
       "      <td>7004200060</td>\n",
       "      <td>10/17/2014</td>\n",
       "      <td>309600.0</td>\n",
       "      <td>4</td>\n",
       "      <td>1.75</td>\n",
       "      <td>1275</td>\n",
       "      <td>20000</td>\n",
       "      <td>1.0</td>\n",
       "      <td>0.0</td>\n",
       "      <td>0.0</td>\n",
       "      <td>...</td>\n",
       "      <td>6</td>\n",
       "      <td>1275</td>\n",
       "      <td>0.0</td>\n",
       "      <td>1991</td>\n",
       "      <td>0.0</td>\n",
       "      <td>98070</td>\n",
       "      <td>47.3796</td>\n",
       "      <td>-122.490</td>\n",
       "      <td>1660</td>\n",
       "      <td>20000</td>\n",
       "    </tr>\n",
       "    <tr>\n",
       "      <th>411</th>\n",
       "      <td>2422029094</td>\n",
       "      <td>7/16/2014</td>\n",
       "      <td>517534.0</td>\n",
       "      <td>2</td>\n",
       "      <td>1.00</td>\n",
       "      <td>833</td>\n",
       "      <td>143947</td>\n",
       "      <td>1.0</td>\n",
       "      <td>0.0</td>\n",
       "      <td>0.0</td>\n",
       "      <td>...</td>\n",
       "      <td>5</td>\n",
       "      <td>833</td>\n",
       "      <td>0.0</td>\n",
       "      <td>2006</td>\n",
       "      <td>0.0</td>\n",
       "      <td>98070</td>\n",
       "      <td>47.3889</td>\n",
       "      <td>-122.482</td>\n",
       "      <td>1380</td>\n",
       "      <td>143947</td>\n",
       "    </tr>\n",
       "    <tr>\n",
       "      <th>1185</th>\n",
       "      <td>6398000171</td>\n",
       "      <td>7/10/2014</td>\n",
       "      <td>545000.0</td>\n",
       "      <td>2</td>\n",
       "      <td>2.00</td>\n",
       "      <td>2930</td>\n",
       "      <td>14057</td>\n",
       "      <td>1.0</td>\n",
       "      <td>0.0</td>\n",
       "      <td>2.0</td>\n",
       "      <td>...</td>\n",
       "      <td>8</td>\n",
       "      <td>1680</td>\n",
       "      <td>1250.0</td>\n",
       "      <td>1980</td>\n",
       "      <td>NaN</td>\n",
       "      <td>98070</td>\n",
       "      <td>47.4025</td>\n",
       "      <td>-122.463</td>\n",
       "      <td>2234</td>\n",
       "      <td>61011</td>\n",
       "    </tr>\n",
       "    <tr>\n",
       "      <th>1290</th>\n",
       "      <td>5341600030</td>\n",
       "      <td>5/9/2014</td>\n",
       "      <td>255000.0</td>\n",
       "      <td>2</td>\n",
       "      <td>1.00</td>\n",
       "      <td>960</td>\n",
       "      <td>28717</td>\n",
       "      <td>1.0</td>\n",
       "      <td>0.0</td>\n",
       "      <td>0.0</td>\n",
       "      <td>...</td>\n",
       "      <td>6</td>\n",
       "      <td>960</td>\n",
       "      <td>0.0</td>\n",
       "      <td>1984</td>\n",
       "      <td>0.0</td>\n",
       "      <td>98070</td>\n",
       "      <td>47.3356</td>\n",
       "      <td>-122.502</td>\n",
       "      <td>1860</td>\n",
       "      <td>28717</td>\n",
       "    </tr>\n",
       "    <tr>\n",
       "      <th>1350</th>\n",
       "      <td>1823039205</td>\n",
       "      <td>6/24/2014</td>\n",
       "      <td>585000.0</td>\n",
       "      <td>3</td>\n",
       "      <td>2.50</td>\n",
       "      <td>2270</td>\n",
       "      <td>100545</td>\n",
       "      <td>2.0</td>\n",
       "      <td>0.0</td>\n",
       "      <td>0.0</td>\n",
       "      <td>...</td>\n",
       "      <td>8</td>\n",
       "      <td>2270</td>\n",
       "      <td>0.0</td>\n",
       "      <td>1998</td>\n",
       "      <td>0.0</td>\n",
       "      <td>98070</td>\n",
       "      <td>47.4815</td>\n",
       "      <td>-122.470</td>\n",
       "      <td>1277</td>\n",
       "      <td>100545</td>\n",
       "    </tr>\n",
       "  </tbody>\n",
       "</table>\n",
       "<p>5 rows × 21 columns</p>\n",
       "</div>"
      ],
      "text/plain": [
       "              id        date     price  bedrooms  bathrooms  sqft_living  \\\n",
       "343   7004200060  10/17/2014  309600.0         4       1.75         1275   \n",
       "411   2422029094   7/16/2014  517534.0         2       1.00          833   \n",
       "1185  6398000171   7/10/2014  545000.0         2       2.00         2930   \n",
       "1290  5341600030    5/9/2014  255000.0         2       1.00          960   \n",
       "1350  1823039205   6/24/2014  585000.0         3       2.50         2270   \n",
       "\n",
       "      sqft_lot  floors  waterfront  view  ...  grade  sqft_above  \\\n",
       "343      20000     1.0         0.0   0.0  ...      6        1275   \n",
       "411     143947     1.0         0.0   0.0  ...      5         833   \n",
       "1185     14057     1.0         0.0   2.0  ...      8        1680   \n",
       "1290     28717     1.0         0.0   0.0  ...      6         960   \n",
       "1350    100545     2.0         0.0   0.0  ...      8        2270   \n",
       "\n",
       "      sqft_basement yr_built  yr_renovated  zipcode      lat     long  \\\n",
       "343             0.0     1991           0.0    98070  47.3796 -122.490   \n",
       "411             0.0     2006           0.0    98070  47.3889 -122.482   \n",
       "1185         1250.0     1980           NaN    98070  47.4025 -122.463   \n",
       "1290            0.0     1984           0.0    98070  47.3356 -122.502   \n",
       "1350            0.0     1998           0.0    98070  47.4815 -122.470   \n",
       "\n",
       "      sqft_living15  sqft_lot15  \n",
       "343            1660       20000  \n",
       "411            1380      143947  \n",
       "1185           2234       61011  \n",
       "1290           1860       28717  \n",
       "1350           1277      100545  \n",
       "\n",
       "[5 rows x 21 columns]"
      ]
     },
     "execution_count": 35,
     "metadata": {},
     "output_type": "execute_result"
    }
   ],
   "source": [
    "seven_zero_properties = kc_house_data.loc[kc_house_data['zipcode'] == 98070]\n",
    "no_wf = seven_zero_properties.loc[seven_zero_properties['waterfront']== 0]\n",
    "no_wf.head()"
   ]
  },
  {
   "cell_type": "code",
   "execution_count": 37,
   "metadata": {},
   "outputs": [
    {
     "data": {
      "text/plain": [
       "id               3.275510e+09\n",
       "price            4.554826e+05\n",
       "bedrooms         2.918605e+00\n",
       "bathrooms        1.956395e+00\n",
       "sqft_living      1.934953e+03\n",
       "sqft_lot         1.070494e+05\n",
       "floors           1.459302e+00\n",
       "waterfront       0.000000e+00\n",
       "view             5.348837e-01\n",
       "condition        3.604651e+00\n",
       "grade            7.325581e+00\n",
       "sqft_above       1.745907e+03\n",
       "yr_built         1.971442e+03\n",
       "yr_renovated     2.800000e+01\n",
       "zipcode          9.807000e+04\n",
       "lat              4.741881e+01\n",
       "long            -1.224624e+02\n",
       "sqft_living15    1.784674e+03\n",
       "sqft_lot15       8.735243e+04\n",
       "dtype: float64"
      ]
     },
     "execution_count": 37,
     "metadata": {},
     "output_type": "execute_result"
    }
   ],
   "source": [
    "no_wf_mean= no_wf.mean()\n",
    "no_wf_mean"
   ]
  },
  {
   "cell_type": "markdown",
   "metadata": {},
   "source": [
    "In zip code 98070, the average price for;\n",
    "\n",
    "properties on the waterfont was 4.893820e+05,\n",
    "\n",
    "properties not on the waterfront was 4.554826e+05. "
   ]
  },
  {
   "cell_type": "code",
   "execution_count": 38,
   "metadata": {},
   "outputs": [
    {
     "data": {
      "text/plain": [
       "id               4.043990e+09\n",
       "price            4.643224e+05\n",
       "bedrooms         3.377953e+00\n",
       "bathrooms        1.911417e+00\n",
       "sqft_living      2.067906e+03\n",
       "sqft_lot         1.360940e+04\n",
       "floors           1.250000e+00\n",
       "waterfront       6.392694e-02\n",
       "view             6.679842e-01\n",
       "condition        3.574803e+00\n",
       "grade            7.393701e+00\n",
       "sqft_above       1.705472e+03\n",
       "yr_built         1.957622e+03\n",
       "yr_renovated     2.091857e+02\n",
       "zipcode          9.816600e+04\n",
       "lat              4.745521e+01\n",
       "long            -1.223503e+02\n",
       "sqft_living15    1.886850e+03\n",
       "sqft_lot15       1.269432e+04\n",
       "dtype: float64"
      ]
     },
     "execution_count": 38,
     "metadata": {},
     "output_type": "execute_result"
    }
   ],
   "source": [
    "one_six_six = kc_house_data.loc[kc_house_data['zipcode'] == 98166]\n",
    "one_six_six.loc[one_six_six['waterfront']== 1]\n",
    "one_wf_mean = one_six_six.mean()\n",
    "one_wf_mean"
   ]
  },
  {
   "cell_type": "code",
   "execution_count": 41,
   "metadata": {},
   "outputs": [
    {
     "data": {
      "text/plain": [
       "id               4.043940e+09\n",
       "price            4.173795e+05\n",
       "bedrooms         3.429268e+00\n",
       "bathrooms        1.890244e+00\n",
       "sqft_living      2.034054e+03\n",
       "sqft_lot         1.294833e+04\n",
       "floors           1.217073e+00\n",
       "waterfront       0.000000e+00\n",
       "view             4.780488e-01\n",
       "condition        3.590244e+00\n",
       "grade            7.341463e+00\n",
       "sqft_above       1.643478e+03\n",
       "yr_built         1.957956e+03\n",
       "yr_renovated     1.952299e+02\n",
       "zipcode          9.816600e+04\n",
       "lat              4.745565e+01\n",
       "long            -1.223488e+02\n",
       "sqft_living15    1.845024e+03\n",
       "sqft_lot15       1.198832e+04\n",
       "dtype: float64"
      ]
     },
     "execution_count": 41,
     "metadata": {},
     "output_type": "execute_result"
    }
   ],
   "source": [
    "one_six_six = kc_house_data.loc[kc_house_data['zipcode'] == 98166]\n",
    "no_wf_mean = one_six_six.loc[one_six_six['waterfront']== 0]\n",
    "no_wf_means = no_wf_mean.mean()\n",
    "no_wf_means"
   ]
  },
  {
   "cell_type": "markdown",
   "metadata": {},
   "source": [
    "In zip code 98166, the average price for;\n",
    "\n",
    "properties on the waterfont was 4.643224e+05,\n",
    "\n",
    "properties not on the waterfront was 4.173795e+05. "
   ]
  },
  {
   "cell_type": "code",
   "execution_count": 42,
   "metadata": {},
   "outputs": [
    {
     "data": {
      "text/html": [
       "<div>\n",
       "<style scoped>\n",
       "    .dataframe tbody tr th:only-of-type {\n",
       "        vertical-align: middle;\n",
       "    }\n",
       "\n",
       "    .dataframe tbody tr th {\n",
       "        vertical-align: top;\n",
       "    }\n",
       "\n",
       "    .dataframe thead th {\n",
       "        text-align: right;\n",
       "    }\n",
       "</style>\n",
       "<table border=\"1\" class=\"dataframe\">\n",
       "  <thead>\n",
       "    <tr style=\"text-align: right;\">\n",
       "      <th></th>\n",
       "      <th>id</th>\n",
       "      <th>price</th>\n",
       "      <th>bedrooms</th>\n",
       "      <th>bathrooms</th>\n",
       "      <th>sqft_living</th>\n",
       "      <th>sqft_lot</th>\n",
       "      <th>floors</th>\n",
       "      <th>waterfront</th>\n",
       "      <th>view</th>\n",
       "      <th>condition</th>\n",
       "      <th>grade</th>\n",
       "      <th>sqft_above</th>\n",
       "      <th>yr_built</th>\n",
       "      <th>yr_renovated</th>\n",
       "      <th>zipcode</th>\n",
       "      <th>lat</th>\n",
       "      <th>long</th>\n",
       "      <th>sqft_living15</th>\n",
       "      <th>sqft_lot15</th>\n",
       "    </tr>\n",
       "  </thead>\n",
       "  <tbody>\n",
       "    <tr>\n",
       "      <th>count</th>\n",
       "      <td>2.159700e+04</td>\n",
       "      <td>2.159700e+04</td>\n",
       "      <td>21597.000000</td>\n",
       "      <td>21597.000000</td>\n",
       "      <td>21597.000000</td>\n",
       "      <td>2.159700e+04</td>\n",
       "      <td>21597.000000</td>\n",
       "      <td>19221.000000</td>\n",
       "      <td>21534.000000</td>\n",
       "      <td>21597.000000</td>\n",
       "      <td>21597.000000</td>\n",
       "      <td>21597.000000</td>\n",
       "      <td>21597.000000</td>\n",
       "      <td>17755.000000</td>\n",
       "      <td>21597.000000</td>\n",
       "      <td>21597.000000</td>\n",
       "      <td>21597.000000</td>\n",
       "      <td>21597.000000</td>\n",
       "      <td>21597.000000</td>\n",
       "    </tr>\n",
       "    <tr>\n",
       "      <th>mean</th>\n",
       "      <td>4.580474e+09</td>\n",
       "      <td>5.402966e+05</td>\n",
       "      <td>3.373200</td>\n",
       "      <td>2.115826</td>\n",
       "      <td>2080.321850</td>\n",
       "      <td>1.509941e+04</td>\n",
       "      <td>1.494096</td>\n",
       "      <td>0.007596</td>\n",
       "      <td>0.233863</td>\n",
       "      <td>3.409825</td>\n",
       "      <td>7.657915</td>\n",
       "      <td>1788.596842</td>\n",
       "      <td>1970.999676</td>\n",
       "      <td>83.636778</td>\n",
       "      <td>98077.951845</td>\n",
       "      <td>47.560093</td>\n",
       "      <td>-122.213982</td>\n",
       "      <td>1986.620318</td>\n",
       "      <td>12758.283512</td>\n",
       "    </tr>\n",
       "    <tr>\n",
       "      <th>std</th>\n",
       "      <td>2.876736e+09</td>\n",
       "      <td>3.673681e+05</td>\n",
       "      <td>0.926299</td>\n",
       "      <td>0.768984</td>\n",
       "      <td>918.106125</td>\n",
       "      <td>4.141264e+04</td>\n",
       "      <td>0.539683</td>\n",
       "      <td>0.086825</td>\n",
       "      <td>0.765686</td>\n",
       "      <td>0.650546</td>\n",
       "      <td>1.173200</td>\n",
       "      <td>827.759761</td>\n",
       "      <td>29.375234</td>\n",
       "      <td>399.946414</td>\n",
       "      <td>53.513072</td>\n",
       "      <td>0.138552</td>\n",
       "      <td>0.140724</td>\n",
       "      <td>685.230472</td>\n",
       "      <td>27274.441950</td>\n",
       "    </tr>\n",
       "    <tr>\n",
       "      <th>min</th>\n",
       "      <td>1.000102e+06</td>\n",
       "      <td>7.800000e+04</td>\n",
       "      <td>1.000000</td>\n",
       "      <td>0.500000</td>\n",
       "      <td>370.000000</td>\n",
       "      <td>5.200000e+02</td>\n",
       "      <td>1.000000</td>\n",
       "      <td>0.000000</td>\n",
       "      <td>0.000000</td>\n",
       "      <td>1.000000</td>\n",
       "      <td>3.000000</td>\n",
       "      <td>370.000000</td>\n",
       "      <td>1900.000000</td>\n",
       "      <td>0.000000</td>\n",
       "      <td>98001.000000</td>\n",
       "      <td>47.155900</td>\n",
       "      <td>-122.519000</td>\n",
       "      <td>399.000000</td>\n",
       "      <td>651.000000</td>\n",
       "    </tr>\n",
       "    <tr>\n",
       "      <th>25%</th>\n",
       "      <td>2.123049e+09</td>\n",
       "      <td>3.220000e+05</td>\n",
       "      <td>3.000000</td>\n",
       "      <td>1.750000</td>\n",
       "      <td>1430.000000</td>\n",
       "      <td>5.040000e+03</td>\n",
       "      <td>1.000000</td>\n",
       "      <td>0.000000</td>\n",
       "      <td>0.000000</td>\n",
       "      <td>3.000000</td>\n",
       "      <td>7.000000</td>\n",
       "      <td>1190.000000</td>\n",
       "      <td>1951.000000</td>\n",
       "      <td>0.000000</td>\n",
       "      <td>98033.000000</td>\n",
       "      <td>47.471100</td>\n",
       "      <td>-122.328000</td>\n",
       "      <td>1490.000000</td>\n",
       "      <td>5100.000000</td>\n",
       "    </tr>\n",
       "    <tr>\n",
       "      <th>50%</th>\n",
       "      <td>3.904930e+09</td>\n",
       "      <td>4.500000e+05</td>\n",
       "      <td>3.000000</td>\n",
       "      <td>2.250000</td>\n",
       "      <td>1910.000000</td>\n",
       "      <td>7.618000e+03</td>\n",
       "      <td>1.500000</td>\n",
       "      <td>0.000000</td>\n",
       "      <td>0.000000</td>\n",
       "      <td>3.000000</td>\n",
       "      <td>7.000000</td>\n",
       "      <td>1560.000000</td>\n",
       "      <td>1975.000000</td>\n",
       "      <td>0.000000</td>\n",
       "      <td>98065.000000</td>\n",
       "      <td>47.571800</td>\n",
       "      <td>-122.231000</td>\n",
       "      <td>1840.000000</td>\n",
       "      <td>7620.000000</td>\n",
       "    </tr>\n",
       "    <tr>\n",
       "      <th>75%</th>\n",
       "      <td>7.308900e+09</td>\n",
       "      <td>6.450000e+05</td>\n",
       "      <td>4.000000</td>\n",
       "      <td>2.500000</td>\n",
       "      <td>2550.000000</td>\n",
       "      <td>1.068500e+04</td>\n",
       "      <td>2.000000</td>\n",
       "      <td>0.000000</td>\n",
       "      <td>0.000000</td>\n",
       "      <td>4.000000</td>\n",
       "      <td>8.000000</td>\n",
       "      <td>2210.000000</td>\n",
       "      <td>1997.000000</td>\n",
       "      <td>0.000000</td>\n",
       "      <td>98118.000000</td>\n",
       "      <td>47.678000</td>\n",
       "      <td>-122.125000</td>\n",
       "      <td>2360.000000</td>\n",
       "      <td>10083.000000</td>\n",
       "    </tr>\n",
       "    <tr>\n",
       "      <th>max</th>\n",
       "      <td>9.900000e+09</td>\n",
       "      <td>7.700000e+06</td>\n",
       "      <td>33.000000</td>\n",
       "      <td>8.000000</td>\n",
       "      <td>13540.000000</td>\n",
       "      <td>1.651359e+06</td>\n",
       "      <td>3.500000</td>\n",
       "      <td>1.000000</td>\n",
       "      <td>4.000000</td>\n",
       "      <td>5.000000</td>\n",
       "      <td>13.000000</td>\n",
       "      <td>9410.000000</td>\n",
       "      <td>2015.000000</td>\n",
       "      <td>2015.000000</td>\n",
       "      <td>98199.000000</td>\n",
       "      <td>47.777600</td>\n",
       "      <td>-121.315000</td>\n",
       "      <td>6210.000000</td>\n",
       "      <td>871200.000000</td>\n",
       "    </tr>\n",
       "  </tbody>\n",
       "</table>\n",
       "</div>"
      ],
      "text/plain": [
       "                 id         price      bedrooms     bathrooms   sqft_living  \\\n",
       "count  2.159700e+04  2.159700e+04  21597.000000  21597.000000  21597.000000   \n",
       "mean   4.580474e+09  5.402966e+05      3.373200      2.115826   2080.321850   \n",
       "std    2.876736e+09  3.673681e+05      0.926299      0.768984    918.106125   \n",
       "min    1.000102e+06  7.800000e+04      1.000000      0.500000    370.000000   \n",
       "25%    2.123049e+09  3.220000e+05      3.000000      1.750000   1430.000000   \n",
       "50%    3.904930e+09  4.500000e+05      3.000000      2.250000   1910.000000   \n",
       "75%    7.308900e+09  6.450000e+05      4.000000      2.500000   2550.000000   \n",
       "max    9.900000e+09  7.700000e+06     33.000000      8.000000  13540.000000   \n",
       "\n",
       "           sqft_lot        floors    waterfront          view     condition  \\\n",
       "count  2.159700e+04  21597.000000  19221.000000  21534.000000  21597.000000   \n",
       "mean   1.509941e+04      1.494096      0.007596      0.233863      3.409825   \n",
       "std    4.141264e+04      0.539683      0.086825      0.765686      0.650546   \n",
       "min    5.200000e+02      1.000000      0.000000      0.000000      1.000000   \n",
       "25%    5.040000e+03      1.000000      0.000000      0.000000      3.000000   \n",
       "50%    7.618000e+03      1.500000      0.000000      0.000000      3.000000   \n",
       "75%    1.068500e+04      2.000000      0.000000      0.000000      4.000000   \n",
       "max    1.651359e+06      3.500000      1.000000      4.000000      5.000000   \n",
       "\n",
       "              grade    sqft_above      yr_built  yr_renovated       zipcode  \\\n",
       "count  21597.000000  21597.000000  21597.000000  17755.000000  21597.000000   \n",
       "mean       7.657915   1788.596842   1970.999676     83.636778  98077.951845   \n",
       "std        1.173200    827.759761     29.375234    399.946414     53.513072   \n",
       "min        3.000000    370.000000   1900.000000      0.000000  98001.000000   \n",
       "25%        7.000000   1190.000000   1951.000000      0.000000  98033.000000   \n",
       "50%        7.000000   1560.000000   1975.000000      0.000000  98065.000000   \n",
       "75%        8.000000   2210.000000   1997.000000      0.000000  98118.000000   \n",
       "max       13.000000   9410.000000   2015.000000   2015.000000  98199.000000   \n",
       "\n",
       "                lat          long  sqft_living15     sqft_lot15  \n",
       "count  21597.000000  21597.000000   21597.000000   21597.000000  \n",
       "mean      47.560093   -122.213982    1986.620318   12758.283512  \n",
       "std        0.138552      0.140724     685.230472   27274.441950  \n",
       "min       47.155900   -122.519000     399.000000     651.000000  \n",
       "25%       47.471100   -122.328000    1490.000000    5100.000000  \n",
       "50%       47.571800   -122.231000    1840.000000    7620.000000  \n",
       "75%       47.678000   -122.125000    2360.000000   10083.000000  \n",
       "max       47.777600   -121.315000    6210.000000  871200.000000  "
      ]
     },
     "execution_count": 42,
     "metadata": {},
     "output_type": "execute_result"
    }
   ],
   "source": [
    "kc_house_data.describe()"
   ]
  },
  {
   "cell_type": "markdown",
   "metadata": {},
   "source": [
    "There seems to be a lot of waterfont values missing, it's count is 19221 whereas other varibles have up to 21597 entries. For where we do have data, it's shown that waterfront proximity does increase value of the house. The data will require cleaning before we draw a conclusion. \n"
   ]
  },
  {
   "cell_type": "markdown",
   "metadata": {},
   "source": [
    "# How does the total size of property and total size of house affect the value? Is one more impactful than the other?"
   ]
  },
  {
   "cell_type": "code",
   "execution_count": 44,
   "metadata": {},
   "outputs": [
    {
     "data": {
      "text/plain": [
       "sqft_living\n",
       "370    276000.0\n",
       "380    245000.0\n",
       "390    245000.0\n",
       "410    325000.0\n",
       "420    254525.0\n",
       "Name: price, dtype: float64"
      ]
     },
     "execution_count": 44,
     "metadata": {},
     "output_type": "execute_result"
    }
   ],
   "source": [
    "avg_price_sqftliv = kc_house_data.groupby('sqft_living')['price'].mean()\n",
    "avg_price_sqftliv.head()"
   ]
  },
  {
   "cell_type": "code",
   "execution_count": 45,
   "metadata": {},
   "outputs": [],
   "source": [
    "avg_price_sqftliv_plot = avg_price_sqftliv.reset_index()\n"
   ]
  },
  {
   "cell_type": "code",
   "execution_count": 54,
   "metadata": {},
   "outputs": [
    {
     "data": {
      "text/plain": [
       "<matplotlib.collections.PathCollection at 0x1a286bae80>"
      ]
     },
     "execution_count": 54,
     "metadata": {},
     "output_type": "execute_result"
    },
    {
     "data": {
      "image/png": "[encoded data removed]",
      "text/plain": [
       "<Figure size 432x288 with 1 Axes>"
      ]
     },
     "metadata": {
      "needs_background": "light"
     },
     "output_type": "display_data"
    }
   ],
   "source": [
    "x = avg_price_sqftliv_plot['sqft_living']\n",
    "y = avg_price_sqftliv_plot['price']\n",
    "\n",
    "plt.scatter(x,y)"
   ]
  },
  {
   "cell_type": "markdown",
   "metadata": {},
   "source": [
    "The size of the living space of the houses do correlate with price, the graph suggests that the more space, the higher the price although there are some outliers at higher sqft_living."
   ]
  },
  {
   "cell_type": "code",
   "execution_count": 48,
   "metadata": {},
   "outputs": [
    {
     "data": {
      "text/plain": [
       "sqft_lot\n",
       "520     700000.0\n",
       "572     250000.0\n",
       "600     367500.0\n",
       "609    1230000.0\n",
       "635     256950.0\n",
       "Name: price, dtype: float64"
      ]
     },
     "execution_count": 48,
     "metadata": {},
     "output_type": "execute_result"
    }
   ],
   "source": [
    "avg_price_sqftlot = kc_house_data.groupby('sqft_lot')['price'].mean()\n",
    "avg_price_sqftlot.head()"
   ]
  },
  {
   "cell_type": "code",
   "execution_count": 50,
   "metadata": {},
   "outputs": [],
   "source": [
    "avg_price_sqftlot_plot = avg_price_sqftlot.reset_index()\n"
   ]
  },
  {
   "cell_type": "code",
   "execution_count": 52,
   "metadata": {},
   "outputs": [
    {
     "data": {
      "text/plain": [
       "<matplotlib.collections.PathCollection at 0x1a27d3ab38>"
      ]
     },
     "execution_count": 52,
     "metadata": {},
     "output_type": "execute_result"
    },
    {
     "data": {
      "image/png": "[encoded data removed]",
      "text/plain": [
       "<Figure size 432x288 with 1 Axes>"
      ]
     },
     "metadata": {
      "needs_background": "light"
     },
     "output_type": "display_data"
    }
   ],
   "source": [
    "x = avg_price_sqftlot_plot['sqft_lot']\n",
    "y = avg_price_sqftlot_plot['price']\n",
    "\n",
    "plt.scatter(x,y)"
   ]
  },
  {
   "cell_type": "markdown",
   "metadata": {},
   "source": [
    "Surprisingly, when plotting the sqft_lot against price, the increase in lot space does not increase the price. This is a surprising development. It's clear that the total size of the house has significtantly stronger influence on the price.  "
   ]
  },
  {
   "cell_type": "markdown",
   "metadata": {},
   "source": [
    "We are going to investigate this further by using another variable in between price and sqft_lot to decipher another realtionship. \n",
    "So, by comparing the year a house was built with square foot lot and the realtionship between the year a house was built and the price, we might be able to recognise a sensical trend. "
   ]
  },
  {
   "cell_type": "code",
   "execution_count": 58,
   "metadata": {},
   "outputs": [
    {
     "data": {
      "text/plain": [
       "<matplotlib.collections.PathCollection at 0x1a29232908>"
      ]
     },
     "execution_count": 58,
     "metadata": {},
     "output_type": "execute_result"
    },
    {
     "data": {
      "image/png": "[encoded data removed]",
      "text/plain": [
       "<Figure size 432x288 with 1 Axes>"
      ]
     },
     "metadata": {
      "needs_background": "light"
     },
     "output_type": "display_data"
    }
   ],
   "source": [
    "averages_lot = kc_house_data.groupby('yr_built')['sqft_lot'].mean()\n",
    "average_lot = averages_lot.reset_index()\n",
    "x = average_lot['yr_built']\n",
    "y = average_lot['sqft_lot']\n",
    "\n",
    "plt.scatter(x, y)"
   ]
  },
  {
   "cell_type": "code",
   "execution_count": 57,
   "metadata": {},
   "outputs": [
    {
     "data": {
      "text/plain": [
       "<matplotlib.collections.PathCollection at 0x1a29205a90>"
      ]
     },
     "execution_count": 57,
     "metadata": {},
     "output_type": "execute_result"
    },
    {
     "data": {
      "image/png": "[encoded data removed]",
      "text/plain": [
       "<Figure size 432x288 with 1 Axes>"
      ]
     },
     "metadata": {
      "needs_background": "light"
     },
     "output_type": "display_data"
    }
   ],
   "source": [
    "averages_price = kc_house_data.groupby('yr_built')['price'].mean()\n",
    "average_price = averages_price.reset_index()\n",
    "x = average_price['yr_built']\n",
    "y = average_price['price']\n",
    "\n",
    "plt.scatter(x, y)"
   ]
  },
  {
   "cell_type": "markdown",
   "metadata": {},
   "source": [
    "We can see that the two graphs are almost the inverse of each other. Square foot lot was increasing over time however the price of houses per year were decreasing. This suggests that they do not influence each other. As the price of houses built in the last thirty yeass increased, the square foot living decreased. Just to compare, let's plot square foot living against year built as we have already observed a linear relationship between the actual living space and price."
   ]
  },
  {
   "cell_type": "code",
   "execution_count": 59,
   "metadata": {},
   "outputs": [
    {
     "data": {
      "text/plain": [
       "<matplotlib.collections.PathCollection at 0x1a27de5ba8>"
      ]
     },
     "execution_count": 59,
     "metadata": {},
     "output_type": "execute_result"
    },
    {
     "data": {
      "image/png": "[encoded data removed]",
      "text/plain": [
       "<Figure size 432x288 with 1 Axes>"
      ]
     },
     "metadata": {
      "needs_background": "light"
     },
     "output_type": "display_data"
    }
   ],
   "source": [
    "averages_by_year = kc_house_data.groupby('yr_built')['sqft_living'].mean()\n",
    "average_by_year = averages_by_year.reset_index()\n",
    "x = average_by_year['yr_built']\n",
    "y = average_by_year['sqft_living']\n",
    "\n",
    "plt.scatter(x,y)"
   ]
  },
  {
   "cell_type": "markdown",
   "metadata": {},
   "source": [
    "Here we see that the square foot of actual living space increases with more modern housing which is the same trend observed with price. This means we can assume that square foot living affects the property value and square foot lot does not cause price increase so a suggestion to property investors would be to value potential investments on sqft living instead of sqft lot. "
   ]
  },
  {
   "cell_type": "code",
   "execution_count": null,
   "metadata": {},
   "outputs": [],
   "source": []
  }
 ],
 "metadata": {
  "kernelspec": {
   "display_name": "Python 3",
   "language": "python",
   "name": "python3"
  },
  "language_info": {
   "codemirror_mode": {
    "name": "ipython",
    "version": 3
   },
   "file_extension": ".py",
   "mimetype": "text/x-python",
   "name": "python",
   "nbconvert_exporter": "python",
   "pygments_lexer": "ipython3",
   "version": "3.6.8"
  }
 },
 "nbformat": 4,
 "nbformat_minor": 4
}
