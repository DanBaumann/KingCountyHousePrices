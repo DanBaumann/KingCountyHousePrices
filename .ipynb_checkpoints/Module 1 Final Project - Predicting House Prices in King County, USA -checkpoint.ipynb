{
 "cells": [
  {
   "cell_type": "markdown",
   "metadata": {},
   "source": [
    "# Predicting Housing Prices in King County, USA\n",
    "by Sara Zylfo and Daniel Baumann"
   ]
  },
  {
   "cell_type": "markdown",
   "metadata": {},
   "source": [
    "1. Introduction"
   ]
  },
  {
   "cell_type": "markdown",
   "metadata": {},
   "source": [
    "In our first project as data scientists we have been tasked with exploring, analysing, cleaning and ultimately creating a predictive model on housing prices using the King County House Sales dataset. The dataset in question includes houses that were sold between May 2014 up until May 2015. It is also rich with numerous variables which may help to explain the variation in housing prices within the King County area. If the relationship between certain variables and housing prices can be accurately modelled this would allow for more accurate property valuations. Sellers that are required to provide these valuations could benefit from predictive models such as these, so as to not overvalue/undervalue their property. Similarly, house buyers could also be beneficiaries of a well-constructed model because they would be able to make offers that better reflect the market value of property. \n",
    "\n",
    "The aim of this analysis will be to predict the price of housing in King County, using only the variables and observations provided in the dataset. \n"
   ]
  },
  {
   "cell_type": "markdown",
   "metadata": {},
   "source": [
    "2. Data"
   ]
  },
  {
   "cell_type": "markdown",
   "metadata": {},
   "source": [
    "The dataset in question consists of 21 categories which include 'Date' indicating when the house was sold, as well as a unique identification number 'id'. These variables, particularly the latter are not useful in our investigation. However, the 19 other variables include our outcome of interest 'price', and 18 other housing-related features which are available to use in our data analysis and creating our models.\n",
    "\n",
    "| Variable | Description | \n",
    "| ------ | ------------ |\n",
    "| id | Unique identification number |\n",
    "| date | House sale date |\n",
    "| price | House sale price |\n",
    "| bedrooms | Number of bedrooms |\n",
    "| bathrooms | Number of bathrooms (0.5 indicates toilet and sink only) |\n",
    "| sqft_living | Square footage of total living area |\n",
    "| sqft_lot | Square footage of total lot area |\n",
    "| floors | Number of floors |\n",
    "| waterfront | A dummy(binary) variable that indicates waterfront view |\n",
    "| view | 0-4 index on how good the view of the property is |\n",
    "| condition | 1-5 index on condition of the house |\n",
    "| grade | 1-13 index - King County house grading system |\n",
    "| sqft_above | Square footage of housing space above the ground |\n",
    "| sqft_below | Sqaure footage of housing space below the ground |\n",
    "| yr_built | Year that house was built |\n",
    "| yr_renovation | Year of house's last renovation |\n",
    "| zipcode | Zipcode area of the house |\n",
    "| lat | Latitude |\n",
    "| long | Longitude |\n",
    "| sqft_living15 | Square footage of total living area for nearest 15 neighbours |\n",
    "| sqft_lot15 | Square footage of total lot area for nearest 15 neighbours |\n"
   ]
  },
  {
   "cell_type": "code",
   "execution_count": null,
   "metadata": {},
   "outputs": [],
   "source": []
  }
 ],
 "metadata": {
  "kernelspec": {
   "display_name": "Python 3",
   "language": "python",
   "name": "python3"
  },
  "language_info": {
   "codemirror_mode": {
    "name": "ipython",
    "version": 3
   },
   "file_extension": ".py",
   "mimetype": "text/x-python",
   "name": "python",
   "nbconvert_exporter": "python",
   "pygments_lexer": "ipython3",
   "version": "3.6.8"
  }
 },
 "nbformat": 4,
 "nbformat_minor": 4
}
